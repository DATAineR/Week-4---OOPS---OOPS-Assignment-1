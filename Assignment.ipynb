{
 "cells": [
  {
   "cell_type": "markdown",
   "id": "cff6e94a-a51d-4d3f-905b-2d5b4a8c9fd4",
   "metadata": {},
   "source": [
    "Q1. Explain Class and Object with respect to Object-Oriented Programming. Give a suitable example."
   ]
  },
  {
   "cell_type": "markdown",
   "id": "6175bacc-2ba9-4c73-a613-0cb4cdc61157",
   "metadata": {},
   "source": [
    "\n",
    "In Object-Oriented Programming (OOP), a class is a blueprint or template for creating objects. It defines a set of attributes (data members) and methods (functions) that the objects created from the class will have. A class acts as a user-defined data type that encapsulates data and behavior related to a particular concept.\n",
    "\n",
    "An object, on the other hand, is an instance of a class. It is a concrete instantiation of the class, possessing its own unique identity, state, and behavior. Objects are created based on the structure defined by the class."
   ]
  },
  {
   "cell_type": "code",
   "execution_count": 1,
   "id": "51da871c-d797-48a6-9b37-50a51f525642",
   "metadata": {},
   "outputs": [
    {
     "name": "stdout",
     "output_type": "stream",
     "text": [
      "Alice\n",
      "30\n",
      "Hello, I'm Alice and I'm 25 years old.\n",
      "Hello, I'm Bob and I'm 30 years old.\n"
     ]
    }
   ],
   "source": [
    "# Define a class named \"Person\"\n",
    "class Person:\n",
    "    def __init__(self, name, age):\n",
    "        self.name = name\n",
    "        self.age = age\n",
    "\n",
    "    def introduce(self):\n",
    "        print(f\"Hello, I'm {self.name} and I'm {self.age} years old.\")\n",
    "\n",
    "# Create objects (instances) of the class\n",
    "person1 = Person(\"Alice\", 25)\n",
    "person2 = Person(\"Bob\", 30)\n",
    "\n",
    "# Access attributes and invoke methods of the objects\n",
    "print(person1.name)   # Output: Alice\n",
    "print(person2.age)    # Output: 30\n",
    "\n",
    "person1.introduce()   # Output: Hello, I'm Alice and I'm 25 years old.\n",
    "person2.introduce()   # Output: Hello, I'm Bob and I'm 30 years old.\n"
   ]
  },
  {
   "cell_type": "markdown",
   "id": "cb8b1257-41bc-44aa-92f5-f5f300ab304a",
   "metadata": {},
   "source": [
    "Q2. Name the four pillars of OOPs."
   ]
  },
  {
   "cell_type": "markdown",
   "id": "c1726ba7-f204-41d6-9f3c-c62e743656a8",
   "metadata": {},
   "source": [
    "\n",
    "The four pillars of Object-Oriented Programming (OOP) are:\n",
    "\n",
    "Encapsulation:\n",
    "\n",
    "Encapsulation refers to the bundling of data (attributes) and the methods (functions) that operate on the data into a single unit called a class.\n",
    "It helps in hiding the internal implementation details of an object from the outside world and allows controlled access to the data through methods.\n",
    "\n",
    "Inheritance:\n",
    "\n",
    "Inheritance allows a class (subclass or derived class) to inherit properties and behaviors from another class (superclass or base class).\n",
    "It promotes code reusability and establishes a relationship between classes, where a subclass can reuse the attributes and methods of its superclass.\n",
    "\n",
    "Polymorphism:\n",
    "\n",
    "Polymorphism allows objects of different classes to be treated as objects of a common base class.\n",
    "It enables a single interface to represent different types of objects, and it can take multiple forms, such as method overloading and method overriding.\n",
    "\n",
    "Abstraction:\n",
    "\n",
    "Abstraction involves simplifying complex systems by modeling classes based on essential properties and behaviors, while ignoring non-essential details.\n",
    "It provides a way to provide a high-level view of an object, focusing on what an object does rather than how it achieves its functionality"
   ]
  },
  {
   "cell_type": "markdown",
   "id": "28a4095e-3081-4354-8005-fb3eae5ba2b5",
   "metadata": {},
   "source": [
    "Q3. Explain why the __init__() function is used. Give a suitable example.\n"
   ]
  },
  {
   "cell_type": "markdown",
   "id": "cc6039f1-4b20-4e75-9eac-a23b2f397598",
   "metadata": {},
   "source": [
    "\n",
    "The __init__ function, also known as the constructor, is used in Python to initialize the attributes of an object when it is created. It is a special method that gets called automatically when an object of a class is instantiated. The primary purpose of __init__ is to set the initial state of the object by assigning values to its attributes."
   ]
  },
  {
   "cell_type": "code",
   "execution_count": 2,
   "id": "3ed50f1a-4fd9-4dad-b053-d1c0355b3053",
   "metadata": {},
   "outputs": [
    {
     "name": "stdout",
     "output_type": "stream",
     "text": [
      "Hello, I'm Alice and I'm 25 years old.\n",
      "Hello, I'm Bob and I'm 30 years old.\n"
     ]
    }
   ],
   "source": [
    "class Person:\n",
    "    def __init__(self, name, age):\n",
    "        # The __init__ method with parameters 'name' and 'age'\n",
    "        self.name = name\n",
    "        self.age = age\n",
    "        # Additional initialization code can be added here\n",
    "\n",
    "    def introduce(self):\n",
    "        print(f\"Hello, I'm {self.name} and I'm {self.age} years old.\")\n",
    "\n",
    "# Creating objects of the Person class\n",
    "person1 = Person(\"Alice\", 25)\n",
    "person2 = Person(\"Bob\", 30)\n",
    "\n",
    "# Accessing attributes and invoking methods\n",
    "person1.introduce()  # Output: Hello, I'm Alice and I'm 25 years old.\n",
    "person2.introduce()  # Output: Hello, I'm Bob and I'm 30 years old.\n"
   ]
  },
  {
   "cell_type": "markdown",
   "id": "4cb0e99a-3c8d-4c62-86fb-c80fa3ea492a",
   "metadata": {},
   "source": [
    "In this example:\n",
    "\n",
    "The Person class has an __init__ method that takes two parameters (name and age).\n",
    "When objects (person1 and person2) are created, the __init__ method is automatically called with the specified values for name and age.\n",
    "Inside the __init__ method, the attributes self.name and self.age are initialized with the values passed during object creation.\n",
    "The __init__ function allows you to set the initial state of objects, making it a convenient place to perform setup or initialization tasks when creating instances of a class."
   ]
  },
  {
   "cell_type": "markdown",
   "id": "8bcc0d40-df57-46b3-866d-25e515c9f370",
   "metadata": {},
   "source": [
    "Q4. Why self is used in OOPs?\n"
   ]
  },
  {
   "cell_type": "markdown",
   "id": "efcf73e8-92d4-43d0-a669-31bdd79e501a",
   "metadata": {},
   "source": [
    "\n",
    "In object-oriented programming (OOP), self is a convention used to represent the instance of the class itself. It is the first parameter that must be passed to all instance methods in a class. The use of self is essential for accessing the instance variables and methods within the class.\n",
    "\n",
    "Here are the key reasons why self is used in OOP:\n",
    "\n",
    "1. Accessing Instance Variables:\n",
    "\n",
    "self allows access to the instance variables of the class. When a method is called on an object, self refers to that specific instance, enabling access to its unique attributes.\n",
    "\n",
    "2. Invoking Instance Methods:\n",
    "\n",
    "self is used to invoke other methods within the same class. Without self, the method might not know which instance it is operating on.\n",
    "\n",
    "3. Creating Instance-Specific Attributes:\n",
    "\n",
    "Inside the __init__ method (constructor), self is used to create and initialize instance-specific attributes. It distinguishes between the instance's attributes and local variables within the method.\n",
    "\n",
    "4. Maintaining Object State:\n",
    "\n",
    "self is crucial for maintaining the state of an object. It allows an instance to refer to its own data, ensuring that each object can operate independently with its own set of attributes."
   ]
  },
  {
   "cell_type": "code",
   "execution_count": 4,
   "id": "2619df24-9f91-4e28-abf7-f34bb971443f",
   "metadata": {},
   "outputs": [
    {
     "name": "stdout",
     "output_type": "stream",
     "text": [
      "Value: 42\n"
     ]
    }
   ],
   "source": [
    "class MyClass:\n",
    "    def __init__(self, value):\n",
    "        # Initializing an instance variable using self\n",
    "        self.value = value\n",
    "\n",
    "    def display_value(self):\n",
    "        # Accessing the instance variable using self\n",
    "        print(f\"Value: {self.value}\")\n",
    "\n",
    "# Creating an object of the class\n",
    "obj = MyClass(42)\n",
    "\n",
    "# Calling a method on the object\n",
    "obj.display_value()  # Output: Value: 42\n"
   ]
  },
  {
   "cell_type": "markdown",
   "id": "20858ab5-e37e-4660-a677-012bd89b7275",
   "metadata": {},
   "source": [
    "In this example, self is used to reference the instance variable value within the __init__ method and the display_value method. It ensures that each instance of MyClass can maintain its own state and access its specific attributes."
   ]
  },
  {
   "cell_type": "markdown",
   "id": "e8b33495-d82a-45c0-b914-d1192f2f03d0",
   "metadata": {},
   "source": [
    "Q5. What is inheritance? Give an example for each type of inheritance.\n"
   ]
  },
  {
   "cell_type": "markdown",
   "id": "0b861123-3d26-4417-9312-bba3a88c27dc",
   "metadata": {},
   "source": [
    "Inheritance is a fundamental concept in object-oriented programming (OOP) that allows a new class (subclass or derived class) to inherit properties and behaviors from an existing class (superclass or base class). Inheritance promotes code reuse and helps in creating a hierarchy of classes where a subclass can inherit attributes and methods from its superclass."
   ]
  },
  {
   "cell_type": "markdown",
   "id": "65050b7a-6271-49a1-bd17-08267352932c",
   "metadata": {},
   "source": [
    "There are different types of inheritance in OOP:\n",
    "\n"
   ]
  },
  {
   "cell_type": "markdown",
   "id": "60925d31-a9cc-405b-a2ff-19afab4703de",
   "metadata": {},
   "source": [
    "1. Single Inheritance:\n",
    "\n",
    "Single inheritance occurs when a class inherits from only one superclass."
   ]
  },
  {
   "cell_type": "code",
   "execution_count": 5,
   "id": "106f3853-1e11-4555-b957-f0f6fcd3e91a",
   "metadata": {},
   "outputs": [
    {
     "name": "stdout",
     "output_type": "stream",
     "text": [
      "Generic animal sound\n",
      "Woof! Woof!\n"
     ]
    }
   ],
   "source": [
    "class Animal:\n",
    "    def speak(self):\n",
    "        print(\"Generic animal sound\")\n",
    "\n",
    "class Dog(Animal):\n",
    "    def bark(self):\n",
    "        print(\"Woof! Woof!\")\n",
    "\n",
    "# Example usage\n",
    "dog = Dog()\n",
    "dog.speak()  # Output: Generic animal sound\n",
    "dog.bark()   # Output: Woof! Woof!\n"
   ]
  },
  {
   "cell_type": "markdown",
   "id": "8f27d2a0-9f01-4ce9-800a-c3d4443a0bb6",
   "metadata": {},
   "source": [
    "2. Multiple Inheritance:\n",
    "\n",
    "Multiple inheritance occurs when a class inherits from more than one superclass."
   ]
  },
  {
   "cell_type": "code",
   "execution_count": 7,
   "id": "6279454e-b366-480d-a48c-e864235ce281",
   "metadata": {},
   "outputs": [
    {
     "name": "stdout",
     "output_type": "stream",
     "text": [
      "Engine started.\n",
      "Vehicle charging.\n",
      "Hybrid car is driving.\n"
     ]
    }
   ],
   "source": [
    "class Engine:\n",
    "    def start(self):\n",
    "        print(\"Engine started.\")\n",
    "\n",
    "class ElectricVehicle:\n",
    "    def charge(self):\n",
    "        print(\"Vehicle charging.\")\n",
    "\n",
    "class HybridCar(Engine, ElectricVehicle):\n",
    "    def drive(self):\n",
    "        print(\"Hybrid car is driving.\")\n",
    "\n",
    "# Example usage\n",
    "hybrid_car = HybridCar()\n",
    "hybrid_car.start()   # Output: Engine started.\n",
    "hybrid_car.charge()  # Output: Vehicle charging.\n",
    "hybrid_car.drive()   # Output: Hybrid car is driving.\n"
   ]
  },
  {
   "cell_type": "markdown",
   "id": "785374b3-434a-4abe-a3f1-54035c7c28c7",
   "metadata": {},
   "source": [
    "3. Multilevel Inheritance:\n",
    "\n",
    "Multilevel inheritance occurs when a class is derived from a superclass, and then another class is derived from the derived class."
   ]
  },
  {
   "cell_type": "code",
   "execution_count": 8,
   "id": "7b54b47e-feb7-41d8-88fc-fadc7d4812d0",
   "metadata": {},
   "outputs": [
    {
     "name": "stdout",
     "output_type": "stream",
     "text": [
      "Generic animal sound\n",
      "Woof! Woof!\n",
      "Puppy is playing.\n"
     ]
    }
   ],
   "source": [
    "class Animal:\n",
    "    def speak(self):\n",
    "        print(\"Generic animal sound\")\n",
    "\n",
    "class Dog(Animal):\n",
    "    def bark(self):\n",
    "        print(\"Woof! Woof!\")\n",
    "\n",
    "class Puppy(Dog):\n",
    "    def play(self):\n",
    "        print(\"Puppy is playing.\")\n",
    "\n",
    "# Example usage\n",
    "puppy = Puppy()\n",
    "puppy.speak()  # Output: Generic animal sound\n",
    "puppy.bark()   # Output: Woof! Woof!\n",
    "puppy.play()   # Output: Puppy is playing.\n"
   ]
  },
  {
   "cell_type": "markdown",
   "id": "0413ff57-8397-4d2d-b8ef-364452d4f44d",
   "metadata": {},
   "source": [
    "4. Hierarchical Inheritance:\n",
    "\n",
    "Hierarchical inheritance occurs when multiple classes inherit from a common superclass."
   ]
  },
  {
   "cell_type": "code",
   "execution_count": 9,
   "id": "72a7d45a-4598-4bea-a53f-be1b6ea5894e",
   "metadata": {},
   "outputs": [
    {
     "name": "stdout",
     "output_type": "stream",
     "text": [
      "Drawing shape\n",
      "Drawing circle\n",
      "Drawing shape\n",
      "Drawing square\n"
     ]
    }
   ],
   "source": [
    "class Shape:\n",
    "    def draw(self):\n",
    "        print(\"Drawing shape\")\n",
    "\n",
    "class Circle(Shape):\n",
    "    def draw_circle(self):\n",
    "        print(\"Drawing circle\")\n",
    "\n",
    "class Square(Shape):\n",
    "    def draw_square(self):\n",
    "        print(\"Drawing square\")\n",
    "\n",
    "# Example usage\n",
    "circle = Circle()\n",
    "circle.draw()       # Output: Drawing shape\n",
    "circle.draw_circle() # Output: Drawing circle\n",
    "\n",
    "square = Square()\n",
    "square.draw()        # Output: Drawing shape\n",
    "square.draw_square() # Output: Drawing square\n"
   ]
  },
  {
   "cell_type": "code",
   "execution_count": null,
   "id": "b18ebf11-8327-4b7f-958a-006885e8aecd",
   "metadata": {},
   "outputs": [],
   "source": []
  }
 ],
 "metadata": {
  "kernelspec": {
   "display_name": "Python 3 (ipykernel)",
   "language": "python",
   "name": "python3"
  },
  "language_info": {
   "codemirror_mode": {
    "name": "ipython",
    "version": 3
   },
   "file_extension": ".py",
   "mimetype": "text/x-python",
   "name": "python",
   "nbconvert_exporter": "python",
   "pygments_lexer": "ipython3",
   "version": "3.11.7"
  }
 },
 "nbformat": 4,
 "nbformat_minor": 5
}
